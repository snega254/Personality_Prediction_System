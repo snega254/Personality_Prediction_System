{
  "cells": [
    {
      "cell_type": "code",
      "execution_count": null,
      "metadata": {
        "colab": {
          "base_uri": "https://localhost:8080/"
        },
        "id": "OyeF1Xnf-aiK",
        "outputId": "7c07f9b3-cfba-4d9e-d587-9e22acd9c0d1"
      },
      "outputs": [
        {
          "output_type": "stream",
          "name": "stdout",
          "text": [
            "/content/train.csv\n",
            "/content/test.csv\n",
            "/content/.config/.last_survey_prompt.yaml\n",
            "/content/.config/active_config\n",
            "/content/.config/config_sentinel\n",
            "/content/.config/default_configs.db\n",
            "/content/.config/gce\n",
            "/content/.config/.last_opt_in_prompt.yaml\n",
            "/content/.config/hidden_gcloud_config_universe_descriptor_data_cache_configs.db\n",
            "/content/.config/.last_update_check.json\n",
            "/content/.config/configurations/config_default\n",
            "/content/.config/logs/2024.11.12/14.24.52.621628.log\n",
            "/content/.config/logs/2024.11.12/14.24.39.246967.log\n",
            "/content/.config/logs/2024.11.12/14.24.25.007244.log\n",
            "/content/.config/logs/2024.11.12/14.24.37.929705.log\n",
            "/content/.config/logs/2024.11.12/14.24.51.887054.log\n",
            "/content/.config/logs/2024.11.12/14.24.02.900650.log\n",
            "/content/sample_data/anscombe.json\n",
            "/content/sample_data/README.md\n",
            "/content/sample_data/california_housing_train.csv\n",
            "/content/sample_data/mnist_test.csv\n",
            "/content/sample_data/mnist_train_small.csv\n",
            "/content/sample_data/california_housing_test.csv\n",
            "   Gender  Age  openness  neuroticism  conscientiousness  agreeableness  \\\n",
            "0    Male   17         7            4                  7              3   \n",
            "1    Male   19         4            5                  4              6   \n",
            "2  Female   18         7            6                  4              5   \n",
            "3  Female   22         5            6                  7              4   \n",
            "4  Female   19         7            4                  6              5   \n",
            "\n",
            "   extraversion Personality (Class label)  \n",
            "0             2               extraverted  \n",
            "1             6                   serious  \n",
            "2             5                dependable  \n",
            "3             3               extraverted  \n",
            "4             4                    lively  \n"
          ]
        }
      ],
      "source": [
        "import numpy as np  # linear algebra\n",
        "import pandas as pd  # data processing, CSV file I/O (e.g. pd.read_csv)\n",
        "import seaborn as sns\n",
        "from sklearn.preprocessing import RobustScaler\n",
        "from sklearn.linear_model import LogisticRegression\n",
        "from sklearn.svm import SVC\n",
        "from sklearn.ensemble import RandomForestClassifier, AdaBoostClassifier\n",
        "from sklearn.neighbors import KNeighborsClassifier\n",
        "from sklearn.model_selection import KFold, GridSearchCV\n",
        "import warnings\n",
        "\n",
        "warnings.filterwarnings('ignore')\n",
        "\n",
        "# Input data files are available in the read-only directory\n",
        "# Read and list all files in the current directory\n",
        "import os\n",
        "for dirname, _, filenames in os.walk('/content'):\n",
        "    for filename in filenames:\n",
        "        print(os.path.join(dirname, filename))\n",
        "\n",
        "# Load the dataset (train.csv in the current directory)\n",
        "train_df = pd.read_csv('/content/train.csv')  # Ensure the correct path is given to the dataset\n",
        "\n",
        "# Show the first few rows of the dataset to check\n",
        "print(train_df.head())\n"
      ]
    },
    {
      "cell_type": "code",
      "execution_count": null,
      "metadata": {
        "colab": {
          "base_uri": "https://localhost:8080/"
        },
        "id": "1z4nSH6B_I5F",
        "outputId": "586a4599-f25d-452c-ff80-01576650a7f7"
      },
      "outputs": [
        {
          "output_type": "stream",
          "name": "stdout",
          "text": [
            "   Gender  Age  openness  neuroticism  conscientiousness  agreeableness  \\\n",
            "0    Male   17         7            4                  7              3   \n",
            "1    Male   19         4            5                  4              6   \n",
            "2  Female   18         7            6                  4              5   \n",
            "3  Female   22         5            6                  7              4   \n",
            "4  Female   19         7            4                  6              5   \n",
            "\n",
            "   extraversion  Personality  \n",
            "0             2  extraverted  \n",
            "1             6      serious  \n",
            "2             5   dependable  \n",
            "3             3  extraverted  \n",
            "4             4       lively  \n",
            "Length of training data: 709\n"
          ]
        }
      ],
      "source": [
        "import pandas as pd\n",
        "\n",
        "# Load the datasets\n",
        "df_train = pd.read_csv('/content/train.csv')\n",
        "df_test = pd.read_csv('/content/test.csv')\n",
        "\n",
        "# Renaming columns for consistency\n",
        "df_train.rename(columns={'Personality (Class label)': 'Personality'}, inplace=True)\n",
        "df_test.rename(columns={'Personality (class label)': 'Personality'}, inplace=True)\n",
        "\n",
        "# Concatenate the datasets\n",
        "df = pd.concat([df_train, df_test], ignore_index=True)  # reset index\n",
        "\n",
        "# Show the first few rows to confirm everything is correct\n",
        "print(df.head())\n",
        "\n",
        "# Check the length of the concatenated dataset\n",
        "train_length = len(df_train)\n",
        "print(f\"Length of training data: {train_length}\")\n"
      ]
    },
    {
      "cell_type": "code",
      "execution_count": null,
      "metadata": {
        "colab": {
          "base_uri": "https://localhost:8080/",
          "height": 523
        },
        "id": "IoRQjT8u_UKE",
        "outputId": "75c173a2-7543-441e-ef29-a47675192bb2"
      },
      "outputs": [
        {
          "output_type": "execute_result",
          "data": {
            "text/plain": [
              "<seaborn.axisgrid.FacetGrid at 0x7ad28e002f80>"
            ]
          },
          "metadata": {},
          "execution_count": 15
        },
        {
          "output_type": "display_data",
          "data": {
            "text/plain": [
              "<Figure size 511.111x500 with 1 Axes>"
            ],
            "image/png": "[encoded data removed]"
          },
          "metadata": {}
        }
      ],
      "source": [
        "sns.catplot(x=\"Personality\", y=\"openness\", kind=\"box\", data=df)"
      ]
    },
    {
      "cell_type": "code",
      "execution_count": null,
      "metadata": {
        "colab": {
          "base_uri": "https://localhost:8080/",
          "height": 523
        },
        "id": "WvJ_S6zO_Xrp",
        "outputId": "99e7284b-0389-4c45-e6a7-b397a4113d58"
      },
      "outputs": [
        {
          "output_type": "execute_result",
          "data": {
            "text/plain": [
              "<seaborn.axisgrid.FacetGrid at 0x7ad28a33bd90>"
            ]
          },
          "metadata": {},
          "execution_count": 17
        },
        {
          "output_type": "display_data",
          "data": {
            "text/plain": [
              "<Figure size 511.111x500 with 1 Axes>"
            ],
            "image/png": "[encoded data removed]"
          },
          "metadata": {}
        }
      ],
      "source": [
        "sns.catplot(x=\"Personality\", y=\"neuroticism\", kind=\"box\", data=df)"
      ]
    },
    {
      "cell_type": "code",
      "execution_count": null,
      "metadata": {
        "colab": {
          "base_uri": "https://localhost:8080/",
          "height": 523
        },
        "id": "FpG250KG_aHX",
        "outputId": "c67e4d71-ea64-46bf-ceb5-6a7e6d1ababc"
      },
      "outputs": [
        {
          "output_type": "execute_result",
          "data": {
            "text/plain": [
              "<seaborn.axisgrid.FacetGrid at 0x7ad290167910>"
            ]
          },
          "metadata": {},
          "execution_count": 18
        },
        {
          "output_type": "display_data",
          "data": {
            "text/plain": [
              "<Figure size 511.111x500 with 1 Axes>"
            ],
            "image/png": "[encoded data removed]"
          },
          "metadata": {}
        }
      ],
      "source": [
        "sns.catplot(x=\"Personality\", y=\"conscientiousness\", kind=\"box\", data=df)"
      ]
    },
    {
      "cell_type": "code",
      "execution_count": null,
      "metadata": {
        "colab": {
          "base_uri": "https://localhost:8080/",
          "height": 523
        },
        "id": "kjowLIxE_fVj",
        "outputId": "d41c2481-4c23-4ecb-9f21-3ae9bb5dcd91"
      },
      "outputs": [
        {
          "output_type": "execute_result",
          "data": {
            "text/plain": [
              "<seaborn.axisgrid.FacetGrid at 0x7ad28a274610>"
            ]
          },
          "metadata": {},
          "execution_count": 19
        },
        {
          "output_type": "display_data",
          "data": {
            "text/plain": [
              "<Figure size 511.111x500 with 1 Axes>"
            ],
            "image/png": "[encoded data removed]"
          },
          "metadata": {}
        }
      ],
      "source": [
        "sns.catplot(x=\"Personality\", y=\"agreeableness\", kind=\"box\", data=df)"
      ]
    },
    {
      "cell_type": "code",
      "execution_count": null,
      "metadata": {
        "colab": {
          "base_uri": "https://localhost:8080/",
          "height": 523
        },
        "id": "yzP_QLih_jJV",
        "outputId": "7312d4e1-60be-4253-9f9b-cdd94246d3ad"
      },
      "outputs": [
        {
          "output_type": "execute_result",
          "data": {
            "text/plain": [
              "<seaborn.axisgrid.FacetGrid at 0x7ad28a11d990>"
            ]
          },
          "metadata": {},
          "execution_count": 20
        },
        {
          "output_type": "display_data",
          "data": {
            "text/plain": [
              "<Figure size 511.111x500 with 1 Axes>"
            ],
            "image/png": "[encoded data removed]"
          },
          "metadata": {}
        }
      ],
      "source": [
        "sns.catplot(x=\"Personality\", y=\"extraversion\", kind=\"box\", data=df)"
      ]
    },
    {
      "cell_type": "code",
      "execution_count": null,
      "metadata": {
        "id": "gg5gkqvn_nQp"
      },
      "outputs": [],
      "source": [
        "df['Gender'] = df['Gender'].map({'Male': 0,\n",
        "                                 'Female': 1})\n",
        "\n",
        "df['Personality'] = df['Personality'].map({'dependable': 0,\n",
        "                                           'extraverted': 1,\n",
        "                                           'lively': 2,\n",
        "                                           'responsible': 3,\n",
        "                                           'serious': 4})"
      ]
    },
    {
      "cell_type": "code",
      "execution_count": null,
      "metadata": {
        "colab": {
          "base_uri": "https://localhost:8080/",
          "height": 101
        },
        "id": "ZE9ZcXq6_q97",
        "outputId": "35db0b63-74cf-4869-8a4b-aa3a28d9953d"
      },
      "outputs": [
        {
          "output_type": "execute_result",
          "data": {
            "text/plain": [
              "     Gender  Age  openness  neuroticism  conscientiousness  agreeableness  \\\n",
              "449     NaN   21         2            5                  6              1   \n",
              "\n",
              "     extraversion  Personality  \n",
              "449             5            4  "
            ],
            "text/html": [
              "\n",
              "  <div id=\"df-7360e46c-18c0-488e-b8ea-069bac9e6796\" class=\"colab-df-container\">\n",
              "    <div>\n",
              "<style scoped>\n",
              "    .dataframe tbody tr th:only-of-type {\n",
              "        vertical-align: middle;\n",
              "    }\n",
              "\n",
              "    .dataframe tbody tr th {\n",
              "        vertical-align: top;\n",
              "    }\n",
              "\n",
              "    .dataframe thead th {\n",
              "        text-align: right;\n",
              "    }\n",
              "</style>\n",
              "<table border=\"1\" class=\"dataframe\">\n",
              "  <thead>\n",
              "    <tr style=\"text-align: right;\">\n",
              "      <th></th>\n",
              "      <th>Gender</th>\n",
              "      <th>Age</th>\n",
              "      <th>openness</th>\n",
              "      <th>neuroticism</th>\n",
              "      <th>conscientiousness</th>\n",
              "      <th>agreeableness</th>\n",
              "      <th>extraversion</th>\n",
              "      <th>Personality</th>\n",
              "    </tr>\n",
              "  </thead>\n",
              "  <tbody>\n",
              "    <tr>\n",
              "      <th>449</th>\n",
              "      <td>NaN</td>\n",
              "      <td>21</td>\n",
              "      <td>2</td>\n",
              "      <td>5</td>\n",
              "      <td>6</td>\n",
              "      <td>1</td>\n",
              "      <td>5</td>\n",
              "      <td>4</td>\n",
              "    </tr>\n",
              "  </tbody>\n",
              "</table>\n",
              "</div>\n",
              "    <div class=\"colab-df-buttons\">\n",
              "\n",
              "  <div class=\"colab-df-container\">\n",
              "    <button class=\"colab-df-convert\" onclick=\"convertToInteractive('df-7360e46c-18c0-488e-b8ea-069bac9e6796')\"\n",
              "            title=\"Convert this dataframe to an interactive table.\"\n",
              "            style=\"display:none;\">\n",
              "\n",
              "  <svg xmlns=\"http://www.w3.org/2000/svg\" height=\"24px\" viewBox=\"0 -960 960 960\">\n",
              "    <path d=\"M120-120v-720h720v720H120Zm60-500h600v-160H180v160Zm220 220h160v-160H400v160Zm0 220h160v-160H400v160ZM180-400h160v-160H180v160Zm440 0h160v-160H620v160ZM180-180h160v-160H180v160Zm440 0h160v-160H620v160Z\"/>\n",
              "  </svg>\n",
              "    </button>\n",
              "\n",
              "  <style>\n",
              "    .colab-df-container {\n",
              "      display:flex;\n",
              "      gap: 12px;\n",
              "    }\n",
              "\n",
              "    .colab-df-convert {\n",
              "      background-color: #E8F0FE;\n",
              "      border: none;\n",
              "      border-radius: 50%;\n",
              "      cursor: pointer;\n",
              "      display: none;\n",
              "      fill: #1967D2;\n",
              "      height: 32px;\n",
              "      padding: 0 0 0 0;\n",
              "      width: 32px;\n",
              "    }\n",
              "\n",
              "    .colab-df-convert:hover {\n",
              "      background-color: #E2EBFA;\n",
              "      box-shadow: 0px 1px 2px rgba(60, 64, 67, 0.3), 0px 1px 3px 1px rgba(60, 64, 67, 0.15);\n",
              "      fill: #174EA6;\n",
              "    }\n",
              "\n",
              "    .colab-df-buttons div {\n",
              "      margin-bottom: 4px;\n",
              "    }\n",
              "\n",
              "    [theme=dark] .colab-df-convert {\n",
              "      background-color: #3B4455;\n",
              "      fill: #D2E3FC;\n",
              "    }\n",
              "\n",
              "    [theme=dark] .colab-df-convert:hover {\n",
              "      background-color: #434B5C;\n",
              "      box-shadow: 0px 1px 3px 1px rgba(0, 0, 0, 0.15);\n",
              "      filter: drop-shadow(0px 1px 2px rgba(0, 0, 0, 0.3));\n",
              "      fill: #FFFFFF;\n",
              "    }\n",
              "  </style>\n",
              "\n",
              "    <script>\n",
              "      const buttonEl =\n",
              "        document.querySelector('#df-7360e46c-18c0-488e-b8ea-069bac9e6796 button.colab-df-convert');\n",
              "      buttonEl.style.display =\n",
              "        google.colab.kernel.accessAllowed ? 'block' : 'none';\n",
              "\n",
              "      async function convertToInteractive(key) {\n",
              "        const element = document.querySelector('#df-7360e46c-18c0-488e-b8ea-069bac9e6796');\n",
              "        const dataTable =\n",
              "          await google.colab.kernel.invokeFunction('convertToInteractive',\n",
              "                                                    [key], {});\n",
              "        if (!dataTable) return;\n",
              "\n",
              "        const docLinkHtml = 'Like what you see? Visit the ' +\n",
              "          '<a target=\"_blank\" href=https://colab.research.google.com/notebooks/data_table.ipynb>data table notebook</a>'\n",
              "          + ' to learn more about interactive tables.';\n",
              "        element.innerHTML = '';\n",
              "        dataTable['output_type'] = 'display_data';\n",
              "        await google.colab.output.renderOutput(dataTable, element);\n",
              "        const docLink = document.createElement('div');\n",
              "        docLink.innerHTML = docLinkHtml;\n",
              "        element.appendChild(docLink);\n",
              "      }\n",
              "    </script>\n",
              "  </div>\n",
              "\n",
              "\n",
              "    </div>\n",
              "  </div>\n"
            ],
            "application/vnd.google.colaboratory.intrinsic+json": {
              "type": "dataframe",
              "summary": "{\n  \"name\": \"df[df\",\n  \"rows\": 1,\n  \"fields\": [\n    {\n      \"column\": \"Gender\",\n      \"properties\": {\n        \"dtype\": \"number\",\n        \"std\": null,\n        \"min\": null,\n        \"max\": null,\n        \"num_unique_values\": 0,\n        \"samples\": [],\n        \"semantic_type\": \"\",\n        \"description\": \"\"\n      }\n    },\n    {\n      \"column\": \"Age\",\n      \"properties\": {\n        \"dtype\": \"number\",\n        \"std\": null,\n        \"min\": 21,\n        \"max\": 21,\n        \"num_unique_values\": 1,\n        \"samples\": [],\n        \"semantic_type\": \"\",\n        \"description\": \"\"\n      }\n    },\n    {\n      \"column\": \"openness\",\n      \"properties\": {\n        \"dtype\": \"number\",\n        \"std\": null,\n        \"min\": 2,\n        \"max\": 2,\n        \"num_unique_values\": 1,\n        \"samples\": [],\n        \"semantic_type\": \"\",\n        \"description\": \"\"\n      }\n    },\n    {\n      \"column\": \"neuroticism\",\n      \"properties\": {\n        \"dtype\": \"number\",\n        \"std\": null,\n        \"min\": 5,\n        \"max\": 5,\n        \"num_unique_values\": 1,\n        \"samples\": [],\n        \"semantic_type\": \"\",\n        \"description\": \"\"\n      }\n    },\n    {\n      \"column\": \"conscientiousness\",\n      \"properties\": {\n        \"dtype\": \"number\",\n        \"std\": null,\n        \"min\": 6,\n        \"max\": 6,\n        \"num_unique_values\": 1,\n        \"samples\": [],\n        \"semantic_type\": \"\",\n        \"description\": \"\"\n      }\n    },\n    {\n      \"column\": \"agreeableness\",\n      \"properties\": {\n        \"dtype\": \"number\",\n        \"std\": null,\n        \"min\": 1,\n        \"max\": 1,\n        \"num_unique_values\": 1,\n        \"samples\": [],\n        \"semantic_type\": \"\",\n        \"description\": \"\"\n      }\n    },\n    {\n      \"column\": \"extraversion\",\n      \"properties\": {\n        \"dtype\": \"number\",\n        \"std\": null,\n        \"min\": 5,\n        \"max\": 5,\n        \"num_unique_values\": 1,\n        \"samples\": [],\n        \"semantic_type\": \"\",\n        \"description\": \"\"\n      }\n    },\n    {\n      \"column\": \"Personality\",\n      \"properties\": {\n        \"dtype\": \"number\",\n        \"std\": null,\n        \"min\": 4,\n        \"max\": 4,\n        \"num_unique_values\": 1,\n        \"samples\": [],\n        \"semantic_type\": \"\",\n        \"description\": \"\"\n      }\n    }\n  ]\n}"
            }
          },
          "metadata": {},
          "execution_count": 22
        }
      ],
      "source": [
        "df[df.isnull().sum(axis=1) > 0]"
      ]
    },
    {
      "cell_type": "code",
      "execution_count": null,
      "metadata": {
        "colab": {
          "base_uri": "https://localhost:8080/",
          "height": 477
        },
        "id": "iTvhM79d_uEs",
        "outputId": "47182063-f2c0-4b6f-8411-350c86f452fe"
      },
      "outputs": [
        {
          "output_type": "execute_result",
          "data": {
            "text/plain": [
              "       Gender  openness  neuroticism  conscientiousness  agreeableness  \\\n",
              "Age                                                                      \n",
              "17   0.375000  4.916667     4.208333           5.041667       4.291667   \n",
              "18   0.531250  5.000000     4.656250           5.109375       4.968750   \n",
              "19   0.506024  4.710843     4.253012           4.433735       5.228916   \n",
              "20   0.250000  4.975000     4.225000           5.200000       4.925000   \n",
              "21   0.406250  4.575758     4.424242           5.030303       5.030303   \n",
              "22   0.476190  5.142857     4.190476           4.619048       5.095238   \n",
              "23   0.133333  4.466667     4.133333           4.933333       5.000000   \n",
              "24   0.400000  4.866667     4.466667           5.133333       3.933333   \n",
              "25   0.500000  5.125000     3.875000           5.375000       4.625000   \n",
              "26   0.333333  3.833333     4.833333           4.500000       5.333333   \n",
              "27   0.000000  4.000000     5.000000           5.000000       6.000000   \n",
              "28   0.000000  2.500000     6.000000           6.000000       2.000000   \n",
              "\n",
              "     extraversion  \n",
              "Age                \n",
              "17       5.375000  \n",
              "18       4.843750  \n",
              "19       5.156627  \n",
              "20       4.825000  \n",
              "21       5.030303  \n",
              "22       4.476190  \n",
              "23       5.000000  \n",
              "24       5.666667  \n",
              "25       5.250000  \n",
              "26       4.833333  \n",
              "27       5.000000  \n",
              "28       5.000000  "
            ],
            "text/html": [
              "\n",
              "  <div id=\"df-6b6b48d4-5094-49bd-ba18-3eca7f4cc8cb\" class=\"colab-df-container\">\n",
              "    <div>\n",
              "<style scoped>\n",
              "    .dataframe tbody tr th:only-of-type {\n",
              "        vertical-align: middle;\n",
              "    }\n",
              "\n",
              "    .dataframe tbody tr th {\n",
              "        vertical-align: top;\n",
              "    }\n",
              "\n",
              "    .dataframe thead th {\n",
              "        text-align: right;\n",
              "    }\n",
              "</style>\n",
              "<table border=\"1\" class=\"dataframe\">\n",
              "  <thead>\n",
              "    <tr style=\"text-align: right;\">\n",
              "      <th></th>\n",
              "      <th>Gender</th>\n",
              "      <th>openness</th>\n",
              "      <th>neuroticism</th>\n",
              "      <th>conscientiousness</th>\n",
              "      <th>agreeableness</th>\n",
              "      <th>extraversion</th>\n",
              "    </tr>\n",
              "    <tr>\n",
              "      <th>Age</th>\n",
              "      <th></th>\n",
              "      <th></th>\n",
              "      <th></th>\n",
              "      <th></th>\n",
              "      <th></th>\n",
              "      <th></th>\n",
              "    </tr>\n",
              "  </thead>\n",
              "  <tbody>\n",
              "    <tr>\n",
              "      <th>17</th>\n",
              "      <td>0.375000</td>\n",
              "      <td>4.916667</td>\n",
              "      <td>4.208333</td>\n",
              "      <td>5.041667</td>\n",
              "      <td>4.291667</td>\n",
              "      <td>5.375000</td>\n",
              "    </tr>\n",
              "    <tr>\n",
              "      <th>18</th>\n",
              "      <td>0.531250</td>\n",
              "      <td>5.000000</td>\n",
              "      <td>4.656250</td>\n",
              "      <td>5.109375</td>\n",
              "      <td>4.968750</td>\n",
              "      <td>4.843750</td>\n",
              "    </tr>\n",
              "    <tr>\n",
              "      <th>19</th>\n",
              "      <td>0.506024</td>\n",
              "      <td>4.710843</td>\n",
              "      <td>4.253012</td>\n",
              "      <td>4.433735</td>\n",
              "      <td>5.228916</td>\n",
              "      <td>5.156627</td>\n",
              "    </tr>\n",
              "    <tr>\n",
              "      <th>20</th>\n",
              "      <td>0.250000</td>\n",
              "      <td>4.975000</td>\n",
              "      <td>4.225000</td>\n",
              "      <td>5.200000</td>\n",
              "      <td>4.925000</td>\n",
              "      <td>4.825000</td>\n",
              "    </tr>\n",
              "    <tr>\n",
              "      <th>21</th>\n",
              "      <td>0.406250</td>\n",
              "      <td>4.575758</td>\n",
              "      <td>4.424242</td>\n",
              "      <td>5.030303</td>\n",
              "      <td>5.030303</td>\n",
              "      <td>5.030303</td>\n",
              "    </tr>\n",
              "    <tr>\n",
              "      <th>22</th>\n",
              "      <td>0.476190</td>\n",
              "      <td>5.142857</td>\n",
              "      <td>4.190476</td>\n",
              "      <td>4.619048</td>\n",
              "      <td>5.095238</td>\n",
              "      <td>4.476190</td>\n",
              "    </tr>\n",
              "    <tr>\n",
              "      <th>23</th>\n",
              "      <td>0.133333</td>\n",
              "      <td>4.466667</td>\n",
              "      <td>4.133333</td>\n",
              "      <td>4.933333</td>\n",
              "      <td>5.000000</td>\n",
              "      <td>5.000000</td>\n",
              "    </tr>\n",
              "    <tr>\n",
              "      <th>24</th>\n",
              "      <td>0.400000</td>\n",
              "      <td>4.866667</td>\n",
              "      <td>4.466667</td>\n",
              "      <td>5.133333</td>\n",
              "      <td>3.933333</td>\n",
              "      <td>5.666667</td>\n",
              "    </tr>\n",
              "    <tr>\n",
              "      <th>25</th>\n",
              "      <td>0.500000</td>\n",
              "      <td>5.125000</td>\n",
              "      <td>3.875000</td>\n",
              "      <td>5.375000</td>\n",
              "      <td>4.625000</td>\n",
              "      <td>5.250000</td>\n",
              "    </tr>\n",
              "    <tr>\n",
              "      <th>26</th>\n",
              "      <td>0.333333</td>\n",
              "      <td>3.833333</td>\n",
              "      <td>4.833333</td>\n",
              "      <td>4.500000</td>\n",
              "      <td>5.333333</td>\n",
              "      <td>4.833333</td>\n",
              "    </tr>\n",
              "    <tr>\n",
              "      <th>27</th>\n",
              "      <td>0.000000</td>\n",
              "      <td>4.000000</td>\n",
              "      <td>5.000000</td>\n",
              "      <td>5.000000</td>\n",
              "      <td>6.000000</td>\n",
              "      <td>5.000000</td>\n",
              "    </tr>\n",
              "    <tr>\n",
              "      <th>28</th>\n",
              "      <td>0.000000</td>\n",
              "      <td>2.500000</td>\n",
              "      <td>6.000000</td>\n",
              "      <td>6.000000</td>\n",
              "      <td>2.000000</td>\n",
              "      <td>5.000000</td>\n",
              "    </tr>\n",
              "  </tbody>\n",
              "</table>\n",
              "</div>\n",
              "    <div class=\"colab-df-buttons\">\n",
              "\n",
              "  <div class=\"colab-df-container\">\n",
              "    <button class=\"colab-df-convert\" onclick=\"convertToInteractive('df-6b6b48d4-5094-49bd-ba18-3eca7f4cc8cb')\"\n",
              "            title=\"Convert this dataframe to an interactive table.\"\n",
              "            style=\"display:none;\">\n",
              "\n",
              "  <svg xmlns=\"http://www.w3.org/2000/svg\" height=\"24px\" viewBox=\"0 -960 960 960\">\n",
              "    <path d=\"M120-120v-720h720v720H120Zm60-500h600v-160H180v160Zm220 220h160v-160H400v160Zm0 220h160v-160H400v160ZM180-400h160v-160H180v160Zm440 0h160v-160H620v160ZM180-180h160v-160H180v160Zm440 0h160v-160H620v160Z\"/>\n",
              "  </svg>\n",
              "    </button>\n",
              "\n",
              "  <style>\n",
              "    .colab-df-container {\n",
              "      display:flex;\n",
              "      gap: 12px;\n",
              "    }\n",
              "\n",
              "    .colab-df-convert {\n",
              "      background-color: #E8F0FE;\n",
              "      border: none;\n",
              "      border-radius: 50%;\n",
              "      cursor: pointer;\n",
              "      display: none;\n",
              "      fill: #1967D2;\n",
              "      height: 32px;\n",
              "      padding: 0 0 0 0;\n",
              "      width: 32px;\n",
              "    }\n",
              "\n",
              "    .colab-df-convert:hover {\n",
              "      background-color: #E2EBFA;\n",
              "      box-shadow: 0px 1px 2px rgba(60, 64, 67, 0.3), 0px 1px 3px 1px rgba(60, 64, 67, 0.15);\n",
              "      fill: #174EA6;\n",
              "    }\n",
              "\n",
              "    .colab-df-buttons div {\n",
              "      margin-bottom: 4px;\n",
              "    }\n",
              "\n",
              "    [theme=dark] .colab-df-convert {\n",
              "      background-color: #3B4455;\n",
              "      fill: #D2E3FC;\n",
              "    }\n",
              "\n",
              "    [theme=dark] .colab-df-convert:hover {\n",
              "      background-color: #434B5C;\n",
              "      box-shadow: 0px 1px 3px 1px rgba(0, 0, 0, 0.15);\n",
              "      filter: drop-shadow(0px 1px 2px rgba(0, 0, 0, 0.3));\n",
              "      fill: #FFFFFF;\n",
              "    }\n",
              "  </style>\n",
              "\n",
              "    <script>\n",
              "      const buttonEl =\n",
              "        document.querySelector('#df-6b6b48d4-5094-49bd-ba18-3eca7f4cc8cb button.colab-df-convert');\n",
              "      buttonEl.style.display =\n",
              "        google.colab.kernel.accessAllowed ? 'block' : 'none';\n",
              "\n",
              "      async function convertToInteractive(key) {\n",
              "        const element = document.querySelector('#df-6b6b48d4-5094-49bd-ba18-3eca7f4cc8cb');\n",
              "        const dataTable =\n",
              "          await google.colab.kernel.invokeFunction('convertToInteractive',\n",
              "                                                    [key], {});\n",
              "        if (!dataTable) return;\n",
              "\n",
              "        const docLinkHtml = 'Like what you see? Visit the ' +\n",
              "          '<a target=\"_blank\" href=https://colab.research.google.com/notebooks/data_table.ipynb>data table notebook</a>'\n",
              "          + ' to learn more about interactive tables.';\n",
              "        element.innerHTML = '';\n",
              "        dataTable['output_type'] = 'display_data';\n",
              "        await google.colab.output.renderOutput(dataTable, element);\n",
              "        const docLink = document.createElement('div');\n",
              "        docLink.innerHTML = docLinkHtml;\n",
              "        element.appendChild(docLink);\n",
              "      }\n",
              "    </script>\n",
              "  </div>\n",
              "\n",
              "\n",
              "<div id=\"df-a1c1a98d-e208-49c0-a156-dcdc33853428\">\n",
              "  <button class=\"colab-df-quickchart\" onclick=\"quickchart('df-a1c1a98d-e208-49c0-a156-dcdc33853428')\"\n",
              "            title=\"Suggest charts\"\n",
              "            style=\"display:none;\">\n",
              "\n",
              "<svg xmlns=\"http://www.w3.org/2000/svg\" height=\"24px\"viewBox=\"0 0 24 24\"\n",
              "     width=\"24px\">\n",
              "    <g>\n",
              "        <path d=\"M19 3H5c-1.1 0-2 .9-2 2v14c0 1.1.9 2 2 2h14c1.1 0 2-.9 2-2V5c0-1.1-.9-2-2-2zM9 17H7v-7h2v7zm4 0h-2V7h2v10zm4 0h-2v-4h2v4z\"/>\n",
              "    </g>\n",
              "</svg>\n",
              "  </button>\n",
              "\n",
              "<style>\n",
              "  .colab-df-quickchart {\n",
              "      --bg-color: #E8F0FE;\n",
              "      --fill-color: #1967D2;\n",
              "      --hover-bg-color: #E2EBFA;\n",
              "      --hover-fill-color: #174EA6;\n",
              "      --disabled-fill-color: #AAA;\n",
              "      --disabled-bg-color: #DDD;\n",
              "  }\n",
              "\n",
              "  [theme=dark] .colab-df-quickchart {\n",
              "      --bg-color: #3B4455;\n",
              "      --fill-color: #D2E3FC;\n",
              "      --hover-bg-color: #434B5C;\n",
              "      --hover-fill-color: #FFFFFF;\n",
              "      --disabled-bg-color: #3B4455;\n",
              "      --disabled-fill-color: #666;\n",
              "  }\n",
              "\n",
              "  .colab-df-quickchart {\n",
              "    background-color: var(--bg-color);\n",
              "    border: none;\n",
              "    border-radius: 50%;\n",
              "    cursor: pointer;\n",
              "    display: none;\n",
              "    fill: var(--fill-color);\n",
              "    height: 32px;\n",
              "    padding: 0;\n",
              "    width: 32px;\n",
              "  }\n",
              "\n",
              "  .colab-df-quickchart:hover {\n",
              "    background-color: var(--hover-bg-color);\n",
              "    box-shadow: 0 1px 2px rgba(60, 64, 67, 0.3), 0 1px 3px 1px rgba(60, 64, 67, 0.15);\n",
              "    fill: var(--button-hover-fill-color);\n",
              "  }\n",
              "\n",
              "  .colab-df-quickchart-complete:disabled,\n",
              "  .colab-df-quickchart-complete:disabled:hover {\n",
              "    background-color: var(--disabled-bg-color);\n",
              "    fill: var(--disabled-fill-color);\n",
              "    box-shadow: none;\n",
              "  }\n",
              "\n",
              "  .colab-df-spinner {\n",
              "    border: 2px solid var(--fill-color);\n",
              "    border-color: transparent;\n",
              "    border-bottom-color: var(--fill-color);\n",
              "    animation:\n",
              "      spin 1s steps(1) infinite;\n",
              "  }\n",
              "\n",
              "  @keyframes spin {\n",
              "    0% {\n",
              "      border-color: transparent;\n",
              "      border-bottom-color: var(--fill-color);\n",
              "      border-left-color: var(--fill-color);\n",
              "    }\n",
              "    20% {\n",
              "      border-color: transparent;\n",
              "      border-left-color: var(--fill-color);\n",
              "      border-top-color: var(--fill-color);\n",
              "    }\n",
              "    30% {\n",
              "      border-color: transparent;\n",
              "      border-left-color: var(--fill-color);\n",
              "      border-top-color: var(--fill-color);\n",
              "      border-right-color: var(--fill-color);\n",
              "    }\n",
              "    40% {\n",
              "      border-color: transparent;\n",
              "      border-right-color: var(--fill-color);\n",
              "      border-top-color: var(--fill-color);\n",
              "    }\n",
              "    60% {\n",
              "      border-color: transparent;\n",
              "      border-right-color: var(--fill-color);\n",
              "    }\n",
              "    80% {\n",
              "      border-color: transparent;\n",
              "      border-right-color: var(--fill-color);\n",
              "      border-bottom-color: var(--fill-color);\n",
              "    }\n",
              "    90% {\n",
              "      border-color: transparent;\n",
              "      border-bottom-color: var(--fill-color);\n",
              "    }\n",
              "  }\n",
              "</style>\n",
              "\n",
              "  <script>\n",
              "    async function quickchart(key) {\n",
              "      const quickchartButtonEl =\n",
              "        document.querySelector('#' + key + ' button');\n",
              "      quickchartButtonEl.disabled = true;  // To prevent multiple clicks.\n",
              "      quickchartButtonEl.classList.add('colab-df-spinner');\n",
              "      try {\n",
              "        const charts = await google.colab.kernel.invokeFunction(\n",
              "            'suggestCharts', [key], {});\n",
              "      } catch (error) {\n",
              "        console.error('Error during call to suggestCharts:', error);\n",
              "      }\n",
              "      quickchartButtonEl.classList.remove('colab-df-spinner');\n",
              "      quickchartButtonEl.classList.add('colab-df-quickchart-complete');\n",
              "    }\n",
              "    (() => {\n",
              "      let quickchartButtonEl =\n",
              "        document.querySelector('#df-a1c1a98d-e208-49c0-a156-dcdc33853428 button');\n",
              "      quickchartButtonEl.style.display =\n",
              "        google.colab.kernel.accessAllowed ? 'block' : 'none';\n",
              "    })();\n",
              "  </script>\n",
              "</div>\n",
              "\n",
              "    </div>\n",
              "  </div>\n"
            ],
            "application/vnd.google.colaboratory.intrinsic+json": {
              "type": "dataframe",
              "summary": "{\n  \"name\": \"df\",\n  \"rows\": 12,\n  \"fields\": [\n    {\n      \"column\": \"Age\",\n      \"properties\": {\n        \"dtype\": \"number\",\n        \"std\": 3,\n        \"min\": 17,\n        \"max\": 28,\n        \"num_unique_values\": 12,\n        \"samples\": [\n          27,\n          26,\n          17\n        ],\n        \"semantic_type\": \"\",\n        \"description\": \"\"\n      }\n    },\n    {\n      \"column\": \"Gender\",\n      \"properties\": {\n        \"dtype\": \"number\",\n        \"std\": 0.1900212116711206,\n        \"min\": 0.0,\n        \"max\": 0.53125,\n        \"num_unique_values\": 11,\n        \"samples\": [\n          0.47619047619047616,\n          0.375,\n          0.3333333333333333\n        ],\n        \"semantic_type\": \"\",\n        \"description\": \"\"\n      }\n    },\n    {\n      \"column\": \"openness\",\n      \"properties\": {\n        \"dtype\": \"number\",\n        \"std\": 0.7587226344839012,\n        \"min\": 2.5,\n        \"max\": 5.142857142857143,\n        \"num_unique_values\": 12,\n        \"samples\": [\n          4.0,\n          3.8333333333333335,\n          4.916666666666667\n        ],\n        \"semantic_type\": \"\",\n        \"description\": \"\"\n      }\n    },\n    {\n      \"column\": \"neuroticism\",\n      \"properties\": {\n        \"dtype\": \"number\",\n        \"std\": 0.5623866926084008,\n        \"min\": 3.875,\n        \"max\": 6.0,\n        \"num_unique_values\": 12,\n        \"samples\": [\n          5.0,\n          4.833333333333333,\n          4.208333333333333\n        ],\n        \"semantic_type\": \"\",\n        \"description\": \"\"\n      }\n    },\n    {\n      \"column\": \"conscientiousness\",\n      \"properties\": {\n        \"dtype\": \"number\",\n        \"std\": 0.41794702904120967,\n        \"min\": 4.433734939759036,\n        \"max\": 6.0,\n        \"num_unique_values\": 12,\n        \"samples\": [\n          5.0,\n          4.5,\n          5.041666666666667\n        ],\n        \"semantic_type\": \"\",\n        \"description\": \"\"\n      }\n    },\n    {\n      \"column\": \"agreeableness\",\n      \"properties\": {\n        \"dtype\": \"number\",\n        \"std\": 0.9954023255210462,\n        \"min\": 2.0,\n        \"max\": 6.0,\n        \"num_unique_values\": 12,\n        \"samples\": [\n          6.0,\n          5.333333333333333,\n          4.291666666666667\n        ],\n        \"semantic_type\": \"\",\n        \"description\": \"\"\n      }\n    },\n    {\n      \"column\": \"extraversion\",\n      \"properties\": {\n        \"dtype\": \"number\",\n        \"std\": 0.3034376757877955,\n        \"min\": 4.476190476190476,\n        \"max\": 5.666666666666667,\n        \"num_unique_values\": 10,\n        \"samples\": [\n          5.25,\n          4.84375,\n          4.476190476190476\n        ],\n        \"semantic_type\": \"\",\n        \"description\": \"\"\n      }\n    }\n  ]\n}"
            }
          },
          "metadata": {},
          "execution_count": 23
        }
      ],
      "source": [
        "df.groupby(by=['Personality', 'Age']).mean().loc[4]"
      ]
    },
    {
      "cell_type": "code",
      "execution_count": null,
      "metadata": {
        "id": "dRmtLFW3_xpp"
      },
      "outputs": [],
      "source": [
        "df.at[449, 'Gender'] = 0"
      ]
    },
    {
      "cell_type": "code",
      "execution_count": null,
      "metadata": {
        "colab": {
          "base_uri": "https://localhost:8080/",
          "height": 564
        },
        "id": "ZEt5s8U2_0aD",
        "outputId": "0b2aa860-b29b-448e-d5d1-f4770b571e5d"
      },
      "outputs": [
        {
          "output_type": "execute_result",
          "data": {
            "text/plain": [
              "<Axes: >"
            ]
          },
          "metadata": {},
          "execution_count": 25
        },
        {
          "output_type": "display_data",
          "data": {
            "text/plain": [
              "<Figure size 640x480 with 2 Axes>"
            ],
            "image/png": "[encoded data removed]"
          },
          "metadata": {}
        }
      ],
      "source": [
        "sns.heatmap(df.corr(), annot=True)"
      ]
    },
    {
      "cell_type": "code",
      "execution_count": null,
      "metadata": {
        "colab": {
          "base_uri": "https://localhost:8080/",
          "height": 335
        },
        "id": "7xiYy3Tw_48t",
        "outputId": "2c42be91-0051-4dcc-e28a-142275668d0f"
      },
      "outputs": [
        {
          "output_type": "execute_result",
          "data": {
            "text/plain": [
              "Gender              -0.093991\n",
              "Age                  0.471614\n",
              "openness            -0.638642\n",
              "neuroticism         -0.412167\n",
              "conscientiousness   -0.412381\n",
              "agreeableness       -0.552094\n",
              "extraversion        -0.359830\n",
              "Personality         -0.140035\n",
              "dtype: float64"
            ],
            "text/html": [
              "<div>\n",
              "<style scoped>\n",
              "    .dataframe tbody tr th:only-of-type {\n",
              "        vertical-align: middle;\n",
              "    }\n",
              "\n",
              "    .dataframe tbody tr th {\n",
              "        vertical-align: top;\n",
              "    }\n",
              "\n",
              "    .dataframe thead th {\n",
              "        text-align: right;\n",
              "    }\n",
              "</style>\n",
              "<table border=\"1\" class=\"dataframe\">\n",
              "  <thead>\n",
              "    <tr style=\"text-align: right;\">\n",
              "      <th></th>\n",
              "      <th>0</th>\n",
              "    </tr>\n",
              "  </thead>\n",
              "  <tbody>\n",
              "    <tr>\n",
              "      <th>Gender</th>\n",
              "      <td>-0.093991</td>\n",
              "    </tr>\n",
              "    <tr>\n",
              "      <th>Age</th>\n",
              "      <td>0.471614</td>\n",
              "    </tr>\n",
              "    <tr>\n",
              "      <th>openness</th>\n",
              "      <td>-0.638642</td>\n",
              "    </tr>\n",
              "    <tr>\n",
              "      <th>neuroticism</th>\n",
              "      <td>-0.412167</td>\n",
              "    </tr>\n",
              "    <tr>\n",
              "      <th>conscientiousness</th>\n",
              "      <td>-0.412381</td>\n",
              "    </tr>\n",
              "    <tr>\n",
              "      <th>agreeableness</th>\n",
              "      <td>-0.552094</td>\n",
              "    </tr>\n",
              "    <tr>\n",
              "      <th>extraversion</th>\n",
              "      <td>-0.359830</td>\n",
              "    </tr>\n",
              "    <tr>\n",
              "      <th>Personality</th>\n",
              "      <td>-0.140035</td>\n",
              "    </tr>\n",
              "  </tbody>\n",
              "</table>\n",
              "</div><br><label><b>dtype:</b> float64</label>"
            ]
          },
          "metadata": {},
          "execution_count": 26
        }
      ],
      "source": [
        "df.skew()"
      ]
    },
    {
      "cell_type": "code",
      "execution_count": null,
      "metadata": {
        "id": "5v3zRNY9_8Sy"
      },
      "outputs": [],
      "source": [
        "df['openness'] = np.sqrt(df['openness'] + 1)  # Apply square root to each value\n",
        "df['agreeableness'] = np.sqrt(df['agreeableness'] + 1)  # Apply square root to each value\n"
      ]
    },
    {
      "cell_type": "code",
      "execution_count": null,
      "metadata": {
        "id": "8sS0mNft__pI"
      },
      "outputs": [],
      "source": [
        "# Splitting the data back into train and test sets\n",
        "df_train = df[:train_length]\n",
        "df_test = df[train_length:]\n",
        "\n",
        "# Separating the features (X) and target (Y) columns for both training and testing sets\n",
        "Y, X = df_train['Personality'], df_train.drop(columns=['Personality'])\n",
        "Y_test, X_test = df_test['Personality'], df_test.drop(columns=['Personality'])\n",
        "\n",
        "# Identifying numeric columns for scaling\n",
        "numeric_columns = X.select_dtypes(include=[np.number]).columns\n",
        "\n",
        "# Scaling only the numeric columns using RobustScaler\n",
        "scaler = RobustScaler()\n",
        "X[numeric_columns] = scaler.fit_transform(X[numeric_columns])\n",
        "X_test[numeric_columns] = scaler.transform(X_test[numeric_columns])\n"
      ]
    },
    {
      "cell_type": "code",
      "execution_count": null,
      "metadata": {
        "colab": {
          "base_uri": "https://localhost:8080/",
          "height": 272
        },
        "id": "cmdkC4KuACfi",
        "outputId": "ac37a760-4d62-4d79-cee9-3f0b6085ade5"
      },
      "outputs": [
        {
          "output_type": "execute_result",
          "data": {
            "text/plain": [
              "Personality\n",
              "4    0.227080\n",
              "1    0.211566\n",
              "0    0.194640\n",
              "2    0.188999\n",
              "3    0.177715\n",
              "Name: count, dtype: float64"
            ],
            "text/html": [
              "<div>\n",
              "<style scoped>\n",
              "    .dataframe tbody tr th:only-of-type {\n",
              "        vertical-align: middle;\n",
              "    }\n",
              "\n",
              "    .dataframe tbody tr th {\n",
              "        vertical-align: top;\n",
              "    }\n",
              "\n",
              "    .dataframe thead th {\n",
              "        text-align: right;\n",
              "    }\n",
              "</style>\n",
              "<table border=\"1\" class=\"dataframe\">\n",
              "  <thead>\n",
              "    <tr style=\"text-align: right;\">\n",
              "      <th></th>\n",
              "      <th>count</th>\n",
              "    </tr>\n",
              "    <tr>\n",
              "      <th>Personality</th>\n",
              "      <th></th>\n",
              "    </tr>\n",
              "  </thead>\n",
              "  <tbody>\n",
              "    <tr>\n",
              "      <th>4</th>\n",
              "      <td>0.227080</td>\n",
              "    </tr>\n",
              "    <tr>\n",
              "      <th>1</th>\n",
              "      <td>0.211566</td>\n",
              "    </tr>\n",
              "    <tr>\n",
              "      <th>0</th>\n",
              "      <td>0.194640</td>\n",
              "    </tr>\n",
              "    <tr>\n",
              "      <th>2</th>\n",
              "      <td>0.188999</td>\n",
              "    </tr>\n",
              "    <tr>\n",
              "      <th>3</th>\n",
              "      <td>0.177715</td>\n",
              "    </tr>\n",
              "  </tbody>\n",
              "</table>\n",
              "</div><br><label><b>dtype:</b> float64</label>"
            ]
          },
          "metadata": {},
          "execution_count": 29
        }
      ],
      "source": [
        "df_train['Personality'].value_counts() / len(df_train)"
      ]
    },
    {
      "cell_type": "code",
      "execution_count": null,
      "metadata": {
        "colab": {
          "base_uri": "https://localhost:8080/",
          "height": 272
        },
        "id": "Nep_T9-vAF9-",
        "outputId": "04a7898d-e56d-42fb-ff6e-a56581eb27d6"
      },
      "outputs": [
        {
          "output_type": "execute_result",
          "data": {
            "text/plain": [
              "Personality\n",
              "4    0.485714\n",
              "1    0.244444\n",
              "3    0.126984\n",
              "2    0.076190\n",
              "0    0.066667\n",
              "Name: count, dtype: float64"
            ],
            "text/html": [
              "<div>\n",
              "<style scoped>\n",
              "    .dataframe tbody tr th:only-of-type {\n",
              "        vertical-align: middle;\n",
              "    }\n",
              "\n",
              "    .dataframe tbody tr th {\n",
              "        vertical-align: top;\n",
              "    }\n",
              "\n",
              "    .dataframe thead th {\n",
              "        text-align: right;\n",
              "    }\n",
              "</style>\n",
              "<table border=\"1\" class=\"dataframe\">\n",
              "  <thead>\n",
              "    <tr style=\"text-align: right;\">\n",
              "      <th></th>\n",
              "      <th>count</th>\n",
              "    </tr>\n",
              "    <tr>\n",
              "      <th>Personality</th>\n",
              "      <th></th>\n",
              "    </tr>\n",
              "  </thead>\n",
              "  <tbody>\n",
              "    <tr>\n",
              "      <th>4</th>\n",
              "      <td>0.485714</td>\n",
              "    </tr>\n",
              "    <tr>\n",
              "      <th>1</th>\n",
              "      <td>0.244444</td>\n",
              "    </tr>\n",
              "    <tr>\n",
              "      <th>3</th>\n",
              "      <td>0.126984</td>\n",
              "    </tr>\n",
              "    <tr>\n",
              "      <th>2</th>\n",
              "      <td>0.076190</td>\n",
              "    </tr>\n",
              "    <tr>\n",
              "      <th>0</th>\n",
              "      <td>0.066667</td>\n",
              "    </tr>\n",
              "  </tbody>\n",
              "</table>\n",
              "</div><br><label><b>dtype:</b> float64</label>"
            ]
          },
          "metadata": {},
          "execution_count": 30
        }
      ],
      "source": [
        "df_test['Personality'].value_counts() / len(df_test)"
      ]
    },
    {
      "cell_type": "code",
      "execution_count": null,
      "metadata": {
        "id": "JH1O8bvpAJg2"
      },
      "outputs": [],
      "source": [
        "param_grids = {}\n",
        "models = []\n",
        "\n",
        "logistic = LogisticRegression()\n",
        "models.append(logistic)\n",
        "param_grids[logistic] = {'C':np.arange(0.01, 1, 0.01)}\n",
        "\n",
        "svc = SVC()\n",
        "models.append(svc)\n",
        "param_grids[svc] = {'kernel':['poly','rbf'],\n",
        "                    'C':np.arange(0.01, 1, 0.01)}\n",
        "\n",
        "models.append(svc)\n",
        "param_grids[svc] = {'kernel':['poly','rbf'],\n",
        "                    'C':np.arange(0.01, 1, 0.01)}\n",
        "\n",
        "adaboost = AdaBoostClassifier()\n",
        "models.append(adaboost)\n",
        "param_grids[adaboost] = {'n_estimators':np.arange(10, 101, 10)}\n",
        "\n",
        "knn = KNeighborsClassifier()\n",
        "models.append(knn)\n",
        "param_grids[knn] = {'n_neighbors':np.arange(2,11,1),\n",
        "                    'weights':['uniform', 'distance'],\n",
        "                    'p':np.arange(1,4,1)}"
      ]
    },
    {
      "cell_type": "code",
      "execution_count": null,
      "metadata": {
        "id": "qglm6g_mAO18"
      },
      "outputs": [],
      "source": [
        "from sklearn.model_selection import GridSearchCV\n",
        "\n",
        "def choose_hyperparameters(models, param_grids, X, Y):\n",
        "    cv_models = {}\n",
        "    scores = {}\n",
        "    cv_with_scores = {}\n",
        "\n",
        "    for model_name, model in models.items():\n",
        "        # Initialize GridSearchCV with the model and its corresponding parameter grid\n",
        "        grid_search = GridSearchCV(estimator=model, param_grid=param_grids[model_name], cv=5, scoring='accuracy')\n",
        "\n",
        "        # Fit the model\n",
        "        grid_search.fit(X, Y)\n",
        "\n",
        "        # Save the best estimator, best score, and best parameters\n",
        "        cv_models[model_name] = grid_search.best_estimator_\n",
        "        scores[model_name] = grid_search.best_score_\n",
        "        cv_with_scores[model_name] = {\n",
        "            'best_score': grid_search.best_score_,\n",
        "            'best_params': grid_search.best_params_\n",
        "        }\n",
        "\n",
        "    return cv_models, scores, cv_with_scores\n"
      ]
    },
    {
      "cell_type": "code",
      "execution_count": null,
      "metadata": {
        "colab": {
          "base_uri": "https://localhost:8080/"
        },
        "id": "QZLy51yjAd_l",
        "outputId": "a8bb64c3-3db5-4ca1-da70-f71536def256"
      },
      "outputs": [
        {
          "output_type": "stream",
          "name": "stdout",
          "text": [
            "{'LogisticRegression': 0.6290580361602238, 'SVC': 0.6276495854559985, 'AdaBoostClassifier': 0.6248326840475477, 'KNeighborsClassifier': 0.6192088702427331}\n"
          ]
        }
      ],
      "source": [
        "import numpy as np\n",
        "from sklearn.model_selection import GridSearchCV\n",
        "from sklearn.linear_model import LogisticRegression\n",
        "from sklearn.svm import SVC\n",
        "from sklearn.ensemble import AdaBoostClassifier\n",
        "from sklearn.neighbors import KNeighborsClassifier\n",
        "from sklearn.model_selection import StratifiedKFold\n",
        "\n",
        "# Function to relabel the personality\n",
        "def relabel_personality(x):\n",
        "    if x == 0 or x == 3:\n",
        "        return 1\n",
        "    else:\n",
        "        return 0\n",
        "\n",
        "# Vectorize the function to apply to all elements\n",
        "relabel_personality_v = np.vectorize(relabel_personality)\n",
        "\n",
        "# Apply relabeling to Y and Y_test\n",
        "Y = relabel_personality_v(Y)\n",
        "Y_test = relabel_personality_v(Y_test)\n",
        "\n",
        "# Check for missing values in X and Y before proceeding\n",
        "if np.any(np.isnan(X)) or np.any(np.isnan(Y)):\n",
        "    print(\"Warning: There are missing values in the data. Please handle them before proceeding.\")\n",
        "else:\n",
        "    # Define models and parameter grids\n",
        "    param_grids = {}\n",
        "    models = []\n",
        "\n",
        "    logistic = LogisticRegression()\n",
        "    models.append(logistic)\n",
        "    param_grids[logistic] = {'C': np.arange(0.01, 1, 0.01)}\n",
        "\n",
        "    svc = SVC()\n",
        "    models.append(svc)\n",
        "    param_grids[svc] = {'kernel': ['poly', 'rbf'],\n",
        "                        'C': np.arange(0.01, 1, 0.01)}\n",
        "\n",
        "    adaboost = AdaBoostClassifier()\n",
        "    models.append(adaboost)\n",
        "    param_grids[adaboost] = {'n_estimators': np.arange(10, 101, 10)}\n",
        "\n",
        "    knn = KNeighborsClassifier()\n",
        "    models.append(knn)\n",
        "    param_grids[knn] = {'n_neighbors': np.arange(2, 11, 1),\n",
        "                        'weights': ['uniform', 'distance'],\n",
        "                        'p': np.arange(1, 4, 1)}\n",
        "\n",
        "    # Function to choose hyperparameters using GridSearchCV\n",
        "    def choose_hyperparameters(models, param_grids, X_train, Y_train):\n",
        "        cv_models = {}\n",
        "        scores = {}\n",
        "        cv_with_scores = {}\n",
        "\n",
        "        for model in models:\n",
        "            label = str(type(model)).split('.')[-1].split(\"'\")[0]\n",
        "            try:\n",
        "                gs = GridSearchCV(model, param_grid=param_grids[model], cv=StratifiedKFold(5), error_score='raise')\n",
        "                gs.fit(X_train, Y_train)\n",
        "\n",
        "                cv_models[label] = gs\n",
        "                scores[label] = gs.best_score_  # Store the best score for the model\n",
        "                cv_with_scores[label] = {'best_score': gs.best_score_, 'best_params': gs.best_params_}  # Store both score and params\n",
        "            except ValueError as e:\n",
        "                print(f\"Error fitting {label}: {e}\")\n",
        "\n",
        "        return cv_models, scores, cv_with_scores\n",
        "\n",
        "    # Call function to get hyperparameters and scores\n",
        "    cv_models, scores, cv_with_scores = choose_hyperparameters(models, param_grids, X, Y)\n",
        "    print(scores)\n"
      ]
    },
    {
      "cell_type": "code",
      "execution_count": null,
      "metadata": {
        "id": "UW6ehkPYAu9A"
      },
      "outputs": [],
      "source": [
        "def get_oof_predictions(model, X_train, Y_train, kf):\n",
        "    m = len(X_train)\n",
        "    oof_predictions = np.empty((m,))\n",
        "    for train_index, val_index in kf.split(X_train):\n",
        "        X_tr, X_val = X[train_index], X[val_index]\n",
        "        Y_tr = Y[train_index]\n",
        "        model.fit(X_tr, Y_tr)\n",
        "        oof_predictions[val_index] = model.predict(X_val)\n",
        "    return oof_predictions\n",
        "\n",
        "def train_metamodel(metamodels, param_grids, models, X_train, Y_train, k):\n",
        "    m = len(X_train)\n",
        "    kf = KFold(n_splits=k)\n",
        "    models_predictions = np.zeros(m)\n",
        "    for model in models:\n",
        "        oof_predictions = get_oof_predictions(model, X_train, Y_train, kf)\n",
        "        models_predictions = np.column_stack((models_predictions, oof_predictions))\n",
        "    models_predictions = models_predictions[:, 1:]\n",
        "    cv_models, scores, cv_with_scores = choose_hyperparameters(metamodels,\n",
        "                                                               param_grids,\n",
        "                                                               models_predictions,\n",
        "                                                               Y_train)\n",
        "    metamodel = max(cv_with_scores, key=cv_with_scores.get)\n",
        "    return metamodel\n",
        "\n",
        "def predict_with_models(models, X):\n",
        "    m = len(X)\n",
        "    models_predictions = np.zeros(m)\n",
        "    for model in models:\n",
        "        model_predictions = model.predict(X)\n",
        "        models_predictions = np.column_stack((models_predictions, model_predictions))\n",
        "    return models_predictions[:, 1:]"
      ]
    },
    {
      "cell_type": "code",
      "execution_count": null,
      "metadata": {
        "colab": {
          "base_uri": "https://localhost:8080/",
          "height": 367
        },
        "id": "TPOx19i6AyTZ",
        "outputId": "0a23cc37-9d51-42b1-e27a-20c0c996ee60"
      },
      "outputs": [
        {
          "output_type": "error",
          "ename": "TypeError",
          "evalue": "'>' not supported between instances of 'dict' and 'dict'",
          "traceback": [
            "\u001b[0;31m---------------------------------------------------------------------------\u001b[0m",
            "\u001b[0;31mTypeError\u001b[0m                                 Traceback (most recent call last)",
            "\u001b[0;32m<ipython-input-40-c0416b525b9f>\u001b[0m in \u001b[0;36m<cell line: 3>\u001b[0;34m()\u001b[0m\n\u001b[1;32m      1\u001b[0m \u001b[0mmetamodels\u001b[0m \u001b[0;34m=\u001b[0m \u001b[0mmodels\u001b[0m\u001b[0;34m.\u001b[0m\u001b[0mcopy\u001b[0m\u001b[0;34m(\u001b[0m\u001b[0;34m)\u001b[0m\u001b[0;34m\u001b[0m\u001b[0;34m\u001b[0m\u001b[0m\n\u001b[1;32m      2\u001b[0m \u001b[0mmodels\u001b[0m \u001b[0;34m=\u001b[0m \u001b[0mlist\u001b[0m\u001b[0;34m(\u001b[0m\u001b[0mcv_models\u001b[0m\u001b[0;34m.\u001b[0m\u001b[0mvalues\u001b[0m\u001b[0;34m(\u001b[0m\u001b[0;34m)\u001b[0m\u001b[0;34m)\u001b[0m\u001b[0;34m\u001b[0m\u001b[0;34m\u001b[0m\u001b[0m\n\u001b[0;32m----> 3\u001b[0;31m \u001b[0mmetamodel\u001b[0m \u001b[0;34m=\u001b[0m \u001b[0mtrain_metamodel\u001b[0m\u001b[0;34m(\u001b[0m\u001b[0mmetamodels\u001b[0m\u001b[0;34m,\u001b[0m \u001b[0mparam_grids\u001b[0m\u001b[0;34m,\u001b[0m \u001b[0mmodels\u001b[0m\u001b[0;34m,\u001b[0m \u001b[0mX\u001b[0m\u001b[0;34m,\u001b[0m \u001b[0mY\u001b[0m\u001b[0;34m,\u001b[0m \u001b[0;36m5\u001b[0m\u001b[0;34m)\u001b[0m\u001b[0;34m\u001b[0m\u001b[0;34m\u001b[0m\u001b[0m\n\u001b[0m\u001b[1;32m      4\u001b[0m \u001b[0mY_pred\u001b[0m \u001b[0;34m=\u001b[0m \u001b[0mpredict_with_models\u001b[0m\u001b[0;34m(\u001b[0m\u001b[0mmodels\u001b[0m\u001b[0;34m,\u001b[0m \u001b[0mX_test\u001b[0m\u001b[0;34m)\u001b[0m\u001b[0;34m\u001b[0m\u001b[0;34m\u001b[0m\u001b[0m\n\u001b[1;32m      5\u001b[0m \u001b[0mmetamodel_test_score\u001b[0m \u001b[0;34m=\u001b[0m \u001b[0mmetamodel\u001b[0m\u001b[0;34m.\u001b[0m\u001b[0mscore\u001b[0m\u001b[0;34m(\u001b[0m\u001b[0mY_pred\u001b[0m\u001b[0;34m,\u001b[0m \u001b[0mY_test\u001b[0m\u001b[0;34m)\u001b[0m\u001b[0;34m\u001b[0m\u001b[0;34m\u001b[0m\u001b[0m\n",
            "\u001b[0;32m<ipython-input-39-8481d07bd384>\u001b[0m in \u001b[0;36mtrain_metamodel\u001b[0;34m(metamodels, param_grids, models, X_train, Y_train, k)\u001b[0m\n\u001b[1;32m     21\u001b[0m                                                                \u001b[0mmodels_predictions\u001b[0m\u001b[0;34m,\u001b[0m\u001b[0;34m\u001b[0m\u001b[0;34m\u001b[0m\u001b[0m\n\u001b[1;32m     22\u001b[0m                                                                Y_train)\n\u001b[0;32m---> 23\u001b[0;31m     \u001b[0mmetamodel\u001b[0m \u001b[0;34m=\u001b[0m \u001b[0mmax\u001b[0m\u001b[0;34m(\u001b[0m\u001b[0mcv_with_scores\u001b[0m\u001b[0;34m,\u001b[0m \u001b[0mkey\u001b[0m\u001b[0;34m=\u001b[0m\u001b[0mcv_with_scores\u001b[0m\u001b[0;34m.\u001b[0m\u001b[0mget\u001b[0m\u001b[0;34m)\u001b[0m\u001b[0;34m\u001b[0m\u001b[0;34m\u001b[0m\u001b[0m\n\u001b[0m\u001b[1;32m     24\u001b[0m     \u001b[0;32mreturn\u001b[0m \u001b[0mmetamodel\u001b[0m\u001b[0;34m\u001b[0m\u001b[0;34m\u001b[0m\u001b[0m\n\u001b[1;32m     25\u001b[0m \u001b[0;34m\u001b[0m\u001b[0m\n",
            "\u001b[0;31mTypeError\u001b[0m: '>' not supported between instances of 'dict' and 'dict'"
          ]
        }
      ],
      "source": [
        "metamodels = models.copy()\n",
        "models = list(cv_models.values())\n",
        "metamodel = train_metamodel(metamodels, param_grids, models, X, Y, 5)\n",
        "Y_pred = predict_with_models(models, X_test)\n",
        "metamodel_test_score = metamodel.score(Y_pred, Y_test)\n",
        "metamodel_test_score"
      ]
    },
    {
      "cell_type": "code",
      "execution_count": null,
      "metadata": {
        "id": "UCkFCreCD6KG"
      },
      "outputs": [],
      "source": []
    },
    {
      "cell_type": "code",
      "execution_count": null,
      "metadata": {
        "colab": {
          "base_uri": "https://localhost:8080/"
        },
        "id": "kbFueXrfA1_t",
        "outputId": "1841dc09-aff6-47a2-b12a-151387991dfb"
      },
      "outputs": [
        {
          "data": {
            "text/plain": [
              "0.6304764758765359"
            ]
          },
          "execution_count": 23,
          "metadata": {},
          "output_type": "execute_result"
        }
      ],
      "source": [
        "metamodel.best_score_"
      ]
    },
    {
      "cell_type": "code",
      "execution_count": null,
      "metadata": {
        "colab": {
          "base_uri": "https://localhost:8080/"
        },
        "id": "iqdyz4i0A4kq",
        "outputId": "e9355683-8bbc-429c-d7db-15aedf0707e9"
      },
      "outputs": [
        {
          "data": {
            "text/plain": [
              "(array([0, 1]), array([254,  61]))"
            ]
          },
          "execution_count": 24,
          "metadata": {},
          "output_type": "execute_result"
        }
      ],
      "source": [
        "np.unique(Y_test, return_counts = True)"
      ]
    },
    {
      "cell_type": "code",
      "execution_count": null,
      "metadata": {
        "colab": {
          "base_uri": "https://localhost:8080/"
        },
        "id": "Zpoj-urtA7iX",
        "outputId": "565599dc-56a0-4454-8873-1c7f366a4e20"
      },
      "outputs": [
        {
          "data": {
            "text/plain": [
              "(array([0, 1]), array([313,   2]))"
            ]
          },
          "execution_count": 25,
          "metadata": {},
          "output_type": "execute_result"
        }
      ],
      "source": [
        "np.unique(metamodel.predict(Y_pred), return_counts = True)"
      ]
    },
    {
      "cell_type": "code",
      "execution_count": null,
      "metadata": {
        "colab": {
          "base_uri": "https://localhost:8080/"
        },
        "id": "y24v6Nt4EMh1",
        "outputId": "0eeb2b81-7cc2-494e-ad14-5241061430f0"
      },
      "outputs": [
        {
          "name": "stdout",
          "output_type": "stream",
          "text": [
            "GridSearchCV Accuracy: 0.7429\n"
          ]
        }
      ],
      "source": [
        "from sklearn.metrics import accuracy_score\n",
        "\n",
        "# Assuming you have the following variables defined:\n",
        "# models: list of trained models\n",
        "# X_test: test feature set\n",
        "# Y_test: true labels for the test set\n",
        "\n",
        "# Dictionary to store accuracy results\n",
        "accuracy_results = {}\n",
        "\n",
        "# Loop through each model, make predictions, and calculate accuracy\n",
        "for model in models:\n",
        "    # Make predictions on the test set\n",
        "    predictions = model.predict(X_test)\n",
        "\n",
        "    # Calculate accuracy\n",
        "    accuracy = accuracy_score(Y_test, predictions)\n",
        "\n",
        "    # Store accuracy in the results dictionary\n",
        "    accuracy_results[str(type(model)).split('.')[-1].split(\"'\")[0]] = accuracy\n",
        "\n",
        "# Print the accuracy results\n",
        "for model_name, acc in accuracy_results.items():\n",
        "    print(f'{model_name} Accuracy: {acc:.4f}')\n"
      ]
    },
    {
      "cell_type": "code",
      "execution_count": null,
      "metadata": {
        "colab": {
          "base_uri": "https://localhost:8080/"
        },
        "id": "16zPRIIkEi_O",
        "outputId": "ef62a8f0-0bdb-4b42-caa6-f45dbd6136c9"
      },
      "outputs": [
        {
          "name": "stdout",
          "output_type": "stream",
          "text": [
            "Logistic Regression Accuracy: 0.9667\n",
            "Precision: 0.9708\n",
            "Recall: 0.9667\n",
            "F1 Score: 0.9671\n",
            "Confusion Matrix:\n",
            "[[11  0  0]\n",
            " [ 0  7  0]\n",
            " [ 0  1 11]]\n"
          ]
        },
        {
          "data": {
            "text/plain": [
              "['logistic_model.pkl']"
            ]
          },
          "execution_count": 36,
          "metadata": {},
          "output_type": "execute_result"
        }
      ],
      "source": [
        "import joblib\n",
        "import numpy as np\n",
        "from sklearn.datasets import load_iris  # Example dataset\n",
        "from sklearn.model_selection import train_test_split\n",
        "from sklearn.linear_model import LogisticRegression\n",
        "from sklearn.metrics import accuracy_score, precision_score, recall_score, f1_score, confusion_matrix\n",
        "\n",
        "# Load dataset\n",
        "data = load_iris()\n",
        "X = data.data   # Features\n",
        "Y = data.target  # Labels\n",
        "\n",
        "# Split the dataset into training and test sets (80% train, 20% test)\n",
        "X_train, X_test, Y_train, Y_test = train_test_split(X, Y, test_size=0.2, random_state=45)\n",
        "\n",
        "# Initialize the Logistic Regression model\n",
        "logistic_model = LogisticRegression()\n",
        "\n",
        "# Fit the model on the training data\n",
        "logistic_model.fit(X_train, Y_train)\n",
        "\n",
        "# Make predictions on the test set\n",
        "Y_pred = logistic_model.predict(X_test)\n",
        "\n",
        "# Calculate metrics\n",
        "accuracy = accuracy_score(Y_test, Y_pred)\n",
        "precision = precision_score(Y_test, Y_pred, average='weighted')\n",
        "recall = recall_score(Y_test, Y_pred, average='weighted')\n",
        "f1 = f1_score(Y_test, Y_pred, average='weighted')\n",
        "conf_matrix = confusion_matrix(Y_test, Y_pred)\n",
        "\n",
        "# Print the metrics\n",
        "print(f'Logistic Regression Accuracy: {accuracy:.4f}')\n",
        "print(f'Precision: {precision:.4f}')\n",
        "print(f'Recall: {recall:.4f}')\n",
        "print(f'F1 Score: {f1:.4f}')\n",
        "print('Confusion Matrix:')\n",
        "print(conf_matrix)\n",
        "joblib.dump(logistic_model, 'logistic_model.pkl')  # Save the model\n"
      ]
    },
    {
      "cell_type": "code",
      "execution_count": null,
      "metadata": {
        "id": "eSeGiWgVNHX5"
      },
      "outputs": [],
      "source": []
    },
    {
      "cell_type": "code",
      "execution_count": null,
      "metadata": {
        "colab": {
          "base_uri": "https://localhost:8080/"
        },
        "id": "pkgoCvP8EsAU",
        "outputId": "efa51362-01b5-4870-b565-2e7adf8daae5"
      },
      "outputs": [
        {
          "name": "stdout",
          "output_type": "stream",
          "text": [
            "Accuracy: 0.9333\n",
            "Precision: 0.9467\n",
            "Recall: 0.9333\n",
            "F1 Score: 0.9329\n",
            "Confusion Matrix:\n",
            "[[13  0  0]\n",
            " [ 0  8  0]\n",
            " [ 0  2  7]]\n",
            "Classification Report:\n",
            "              precision    recall  f1-score   support\n",
            "\n",
            "           0       1.00      1.00      1.00        13\n",
            "           1       0.80      1.00      0.89         8\n",
            "           2       1.00      0.78      0.88         9\n",
            "\n",
            "    accuracy                           0.93        30\n",
            "   macro avg       0.93      0.93      0.92        30\n",
            "weighted avg       0.95      0.93      0.93        30\n",
            "\n"
          ]
        },
        {
          "data": {
            "text/plain": [
              "['svc_model.pkl']"
            ]
          },
          "execution_count": 29,
          "metadata": {},
          "output_type": "execute_result"
        }
      ],
      "source": [
        "import joblib\n",
        "from sklearn import datasets\n",
        "from sklearn.model_selection import train_test_split\n",
        "from sklearn.svm import SVC\n",
        "from sklearn.metrics import accuracy_score, precision_score, recall_score, f1_score, confusion_matrix, classification_report\n",
        "\n",
        "# Load dataset\n",
        "data = datasets.load_iris()\n",
        "X = data.data\n",
        "Y = data.target\n",
        "\n",
        "# Split dataset\n",
        "X_train, X_test, Y_train, Y_test = train_test_split(X, Y, test_size=0.2, random_state=43)\n",
        "\n",
        "# Train SVC model\n",
        "svc_model = SVC(kernel='rbf', C=1.0)\n",
        "svc_model.fit(X_train, Y_train)\n",
        "\n",
        "# Make predictions\n",
        "Y_pred = svc_model.predict(X_test)\n",
        "\n",
        "# Accuracy\n",
        "accuracy = accuracy_score(Y_test, Y_pred)\n",
        "print(f'Accuracy: {accuracy:.4f}')\n",
        "\n",
        "# Precision\n",
        "precision = precision_score(Y_test, Y_pred, average='weighted')\n",
        "print(f'Precision: {precision:.4f}')\n",
        "\n",
        "# Recall\n",
        "recall = recall_score(Y_test, Y_pred, average='weighted')\n",
        "print(f'Recall: {recall:.4f}')\n",
        "\n",
        "# F1 Score\n",
        "f1 = f1_score(Y_test, Y_pred, average='weighted')\n",
        "print(f'F1 Score: {f1:.4f}')\n",
        "\n",
        "# Confusion Matrix\n",
        "cm = confusion_matrix(Y_test, Y_pred)\n",
        "print('Confusion Matrix:')\n",
        "print(cm)\n",
        "\n",
        "# Classification Report\n",
        "report = classification_report(Y_test, Y_pred)\n",
        "print('Classification Report:')\n",
        "print(report)\n",
        "\n",
        "joblib.dump(svc_model, 'svc_model.pkl')\n"
      ]
    },
    {
      "cell_type": "code",
      "execution_count": null,
      "metadata": {
        "id": "VBTAb9ygE6Mm"
      },
      "outputs": [],
      "source": []
    },
    {
      "cell_type": "code",
      "execution_count": null,
      "metadata": {
        "colab": {
          "base_uri": "https://localhost:8080/"
        },
        "id": "xppTw39JGB8L",
        "outputId": "c40da02d-d11e-4830-a01b-831d8b30cc7a"
      },
      "outputs": [
        {
          "name": "stdout",
          "output_type": "stream",
          "text": [
            "AdaBoost Accuracy: 0.9000\n",
            "Precision: 0.9032\n",
            "Recall: 0.9000\n",
            "F1 Score: 0.9000\n",
            "Confusion Matrix:\n",
            "[[13  0  0]\n",
            " [ 0  7  1]\n",
            " [ 0  2  7]]\n",
            "Classification Report:\n",
            "              precision    recall  f1-score   support\n",
            "\n",
            "           0       1.00      1.00      1.00        13\n",
            "           1       0.78      0.88      0.82         8\n",
            "           2       0.88      0.78      0.82         9\n",
            "\n",
            "    accuracy                           0.90        30\n",
            "   macro avg       0.88      0.88      0.88        30\n",
            "weighted avg       0.90      0.90      0.90        30\n",
            "\n"
          ]
        },
        {
          "data": {
            "text/plain": [
              "['ada_model.pkl']"
            ]
          },
          "execution_count": 37,
          "metadata": {},
          "output_type": "execute_result"
        }
      ],
      "source": [
        "import joblib\n",
        "from sklearn import datasets\n",
        "from sklearn.model_selection import train_test_split\n",
        "from sklearn.ensemble import AdaBoostClassifier\n",
        "from sklearn.metrics import accuracy_score, precision_score, recall_score, f1_score, confusion_matrix, classification_report\n",
        "\n",
        "# Load dataset\n",
        "data = datasets.load_iris()  # You can replace this with any other dataset\n",
        "X = data.data   # Features\n",
        "Y = data.target  # Labels\n",
        "\n",
        "# Split dataset into training and test sets\n",
        "X_train, X_test, Y_train, Y_test = train_test_split(X, Y, test_size=0.2, random_state=43)\n",
        "\n",
        "# Initialize AdaBoost with a default base estimator (DecisionTreeClassifier by default)\n",
        "ada_model = AdaBoostClassifier(n_estimators=50, random_state=42)\n",
        "\n",
        "# Fit the model on training data\n",
        "ada_model.fit(X_train, Y_train)\n",
        "\n",
        "# Make predictions on the test set\n",
        "Y_pred = ada_model.predict(X_test)\n",
        "\n",
        "# Calculate accuracy\n",
        "accuracy = accuracy_score(Y_test, Y_pred)\n",
        "print(f'AdaBoost Accuracy: {accuracy:.4f}')\n",
        "\n",
        "# Calculate precision\n",
        "precision = precision_score(Y_test, Y_pred, average='weighted')\n",
        "print(f'Precision: {precision:.4f}')\n",
        "\n",
        "# Calculate recall\n",
        "recall = recall_score(Y_test, Y_pred, average='weighted')\n",
        "print(f'Recall: {recall:.4f}')\n",
        "\n",
        "# Calculate F1 score\n",
        "f1 = f1_score(Y_test, Y_pred, average='weighted')\n",
        "print(f'F1 Score: {f1:.4f}')\n",
        "\n",
        "# Confusion Matrix\n",
        "cm = confusion_matrix(Y_test, Y_pred)\n",
        "print('Confusion Matrix:')\n",
        "print(cm)\n",
        "\n",
        "# Classification Report\n",
        "report = classification_report(Y_test, Y_pred)\n",
        "print('Classification Report:')\n",
        "print(report)\n",
        "\n",
        "joblib.dump(ada_model, 'ada_model.pkl')"
      ]
    },
    {
      "cell_type": "code",
      "execution_count": null,
      "metadata": {
        "colab": {
          "base_uri": "https://localhost:8080/"
        },
        "id": "9Dn5crgNGGUa",
        "outputId": "51682c6a-cb5a-4f9a-89c1-058cd1d2d77c"
      },
      "outputs": [
        {
          "name": "stdout",
          "output_type": "stream",
          "text": [
            "KNN Accuracy: 0.9667\n",
            "Precision: 0.9708\n",
            "Recall: 0.9667\n",
            "F1 Score: 0.9671\n",
            "Confusion Matrix:\n",
            "[[11  0  0]\n",
            " [ 0  7  0]\n",
            " [ 0  1 11]]\n",
            "Classification Report:\n",
            "              precision    recall  f1-score   support\n",
            "\n",
            "           0       1.00      1.00      1.00        11\n",
            "           1       0.88      1.00      0.93         7\n",
            "           2       1.00      0.92      0.96        12\n",
            "\n",
            "    accuracy                           0.97        30\n",
            "   macro avg       0.96      0.97      0.96        30\n",
            "weighted avg       0.97      0.97      0.97        30\n",
            "\n"
          ]
        },
        {
          "data": {
            "text/plain": [
              "['knn_model.pkl']"
            ]
          },
          "execution_count": 38,
          "metadata": {},
          "output_type": "execute_result"
        }
      ],
      "source": [
        "import joblib\n",
        "from sklearn import datasets\n",
        "from sklearn.model_selection import train_test_split\n",
        "from sklearn.neighbors import KNeighborsClassifier\n",
        "from sklearn.metrics import accuracy_score, precision_score, recall_score, f1_score, confusion_matrix, classification_report\n",
        "\n",
        "# Load dataset\n",
        "data = datasets.load_iris()  # You can replace this with any other dataset\n",
        "X = data.data   # Features\n",
        "Y = data.target  # Labels\n",
        "\n",
        "# Split dataset into training and test sets\n",
        "X_train, X_test, Y_train, Y_test = train_test_split(X, Y, test_size=0.2, random_state=45)\n",
        "\n",
        "# Initialize KNN with 5 neighbors (default)\n",
        "knn_model = KNeighborsClassifier(n_neighbors=5)\n",
        "\n",
        "# Fit the model on training data\n",
        "knn_model.fit(X_train, Y_train)\n",
        "\n",
        "# Make predictions on the test set\n",
        "Y_pred = knn_model.predict(X_test)\n",
        "\n",
        "# Calculate accuracy\n",
        "accuracy = accuracy_score(Y_test, Y_pred)\n",
        "print(f'KNN Accuracy: {accuracy:.4f}')\n",
        "\n",
        "# Calculate precision\n",
        "precision = precision_score(Y_test, Y_pred, average='weighted')\n",
        "print(f'Precision: {precision:.4f}')\n",
        "\n",
        "# Calculate recall\n",
        "recall = recall_score(Y_test, Y_pred, average='weighted')\n",
        "print(f'Recall: {recall:.4f}')\n",
        "\n",
        "# Calculate F1 score\n",
        "f1 = f1_score(Y_test, Y_pred, average='weighted')\n",
        "print(f'F1 Score: {f1:.4f}')\n",
        "\n",
        "# Confusion Matrix\n",
        "cm = confusion_matrix(Y_test, Y_pred)\n",
        "print('Confusion Matrix:')\n",
        "print(cm)\n",
        "\n",
        "# Classification Report\n",
        "report = classification_report(Y_test, Y_pred)\n",
        "print('Classification Report:')\n",
        "print(report)\n",
        "joblib.dump(knn_model, 'knn_model.pkl')"
      ]
    },
    {
      "cell_type": "code",
      "execution_count": null,
      "metadata": {
        "colab": {
          "base_uri": "https://localhost:8080/"
        },
        "id": "ZsvKbbv1yXb7",
        "outputId": "c26bc633-d8d6-45ca-9e9e-ebe21bfe420c"
      },
      "outputs": [
        {
          "name": "stdout",
          "output_type": "stream",
          "text": [
            "Training Data Columns: Index(['gender', 'age', 'openness', 'neuroticism', 'conscientiousness',\n",
            "       'agreeableness', 'extraversion', 'personality(classlabel)'],\n",
            "      dtype='object')\n",
            "Testing Data Columns: Index(['gender', 'age', 'openness', 'neuroticism', 'conscientiousness',\n",
            "       'agreeableness', 'extraversion', 'personality(classlabel)'],\n",
            "      dtype='object')\n"
          ]
        }
      ],
      "source": [
        "# Step 1: Load your training and testing datasets\n",
        "df_train = pd.read_csv('/content/train.csv')  # Replace with your training dataset file\n",
        "df_test = pd.read_csv('/content/test.csv')    # Replace with your test dataset file\n",
        "\n",
        "# Standardize column names to lowercase and remove extra spaces for consistency\n",
        "df_train.columns = df_train.columns.str.lower().str.replace(' ', '')\n",
        "df_test.columns = df_test.columns.str.lower().str.replace(' ', '')\n",
        "\n",
        "# Check if columns are standardized\n",
        "print(\"Training Data Columns:\", df_train.columns)\n",
        "print(\"Testing Data Columns:\", df_test.columns)\n",
        "\n",
        "# Step 2: Prepare the training and testing data\n",
        "X_train = df_train[['openness', 'conscientiousness', 'extraversion', 'agreeableness', 'neuroticism']].values\n",
        "y_train = df_train['personality(classlabel)'].values  # Unified column name\n",
        "\n",
        "X_test = df_test[['openness', 'conscientiousness', 'extraversion', 'agreeableness', 'neuroticism']].values\n",
        "y_test = df_test['personality(classlabel)'].values  # Unified column name\n",
        "\n",
        "# Continue with the rest of your code...\n"
      ]
    },
    {
      "cell_type": "code",
      "execution_count": null,
      "metadata": {
        "id": "7uR6-apN_3ob"
      },
      "outputs": [],
      "source": []
    },
    {
      "cell_type": "code",
      "execution_count": null,
      "metadata": {
        "id": "A2h85-908e6j"
      },
      "outputs": [],
      "source": []
    },
    {
      "cell_type": "code",
      "execution_count": null,
      "metadata": {
        "id": "0TfWTMpTRWF_"
      },
      "outputs": [],
      "source": []
    },
    {
      "cell_type": "code",
      "execution_count": null,
      "metadata": {
        "colab": {
          "base_uri": "https://localhost:8080/",
          "height": 436
        },
        "id": "3L4BEbQIK0ad",
        "outputId": "38147234-7b52-426e-9c8d-2a7640a2f04e"
      },
      "outputs": [
        {
          "name": "stdout",
          "output_type": "stream",
          "text": [
            "Logistic Regression model saved successfully.\n",
            "KNN model saved successfully.\n",
            "AdaBoost model saved successfully.\n",
            "SVC model saved successfully.\n"
          ]
        },
        {
          "ename": "ValueError",
          "evalue": "Model expects 4 features but got 5",
          "output_type": "error",
          "traceback": [
            "\u001b[0;31m---------------------------------------------------------------------------\u001b[0m",
            "\u001b[0;31mValueError\u001b[0m                                Traceback (most recent call last)",
            "\u001b[0;32m<ipython-input-41-b29effe2c510>\u001b[0m in \u001b[0;36m<cell line: 63>\u001b[0;34m()\u001b[0m\n\u001b[1;32m     62\u001b[0m \u001b[0;34m\u001b[0m\u001b[0m\n\u001b[1;32m     63\u001b[0m \u001b[0;32mfor\u001b[0m \u001b[0mmodel_name\u001b[0m\u001b[0;34m,\u001b[0m \u001b[0mmodel\u001b[0m \u001b[0;32min\u001b[0m \u001b[0mloaded_models\u001b[0m\u001b[0;34m.\u001b[0m\u001b[0mitems\u001b[0m\u001b[0;34m(\u001b[0m\u001b[0;34m)\u001b[0m\u001b[0;34m:\u001b[0m\u001b[0;34m\u001b[0m\u001b[0;34m\u001b[0m\u001b[0m\n\u001b[0;32m---> 64\u001b[0;31m     \u001b[0maccuracy\u001b[0m\u001b[0;34m,\u001b[0m \u001b[0mprecision\u001b[0m\u001b[0;34m,\u001b[0m \u001b[0mrecall\u001b[0m\u001b[0;34m,\u001b[0m \u001b[0mf1\u001b[0m \u001b[0;34m=\u001b[0m \u001b[0mevaluate_model\u001b[0m\u001b[0;34m(\u001b[0m\u001b[0mmodel\u001b[0m\u001b[0;34m,\u001b[0m \u001b[0mX_test\u001b[0m\u001b[0;34m,\u001b[0m \u001b[0my_test\u001b[0m\u001b[0;34m)\u001b[0m\u001b[0;34m\u001b[0m\u001b[0;34m\u001b[0m\u001b[0m\n\u001b[0m\u001b[1;32m     65\u001b[0m     \u001b[0mprint\u001b[0m\u001b[0;34m(\u001b[0m\u001b[0;34mf\"{model_name} - Test Accuracy: {accuracy:.4f}, Precision: {precision:.4f}, Recall: {recall:.4f}, F1 Score: {f1:.4f}\"\u001b[0m\u001b[0;34m)\u001b[0m\u001b[0;34m\u001b[0m\u001b[0;34m\u001b[0m\u001b[0m\n\u001b[1;32m     66\u001b[0m \u001b[0;34m\u001b[0m\u001b[0m\n",
            "\u001b[0;32m<ipython-input-41-b29effe2c510>\u001b[0m in \u001b[0;36mevaluate_model\u001b[0;34m(model, X_test, y_test)\u001b[0m\n\u001b[1;32m     49\u001b[0m     \u001b[0;31m# Check feature consistency\u001b[0m\u001b[0;34m\u001b[0m\u001b[0;34m\u001b[0m\u001b[0m\n\u001b[1;32m     50\u001b[0m     \u001b[0;32mif\u001b[0m \u001b[0mmodel\u001b[0m\u001b[0;34m.\u001b[0m\u001b[0mn_features_in_\u001b[0m \u001b[0;34m!=\u001b[0m \u001b[0mX_test\u001b[0m\u001b[0;34m.\u001b[0m\u001b[0mshape\u001b[0m\u001b[0;34m[\u001b[0m\u001b[0;36m1\u001b[0m\u001b[0;34m]\u001b[0m\u001b[0;34m:\u001b[0m\u001b[0;34m\u001b[0m\u001b[0;34m\u001b[0m\u001b[0m\n\u001b[0;32m---> 51\u001b[0;31m         \u001b[0;32mraise\u001b[0m \u001b[0mValueError\u001b[0m\u001b[0;34m(\u001b[0m\u001b[0;34mf\"Model expects {model.n_features_in_} features but got {X_test.shape[1]}\"\u001b[0m\u001b[0;34m)\u001b[0m\u001b[0;34m\u001b[0m\u001b[0;34m\u001b[0m\u001b[0m\n\u001b[0m\u001b[1;32m     52\u001b[0m     \u001b[0my_pred\u001b[0m \u001b[0;34m=\u001b[0m \u001b[0mmodel\u001b[0m\u001b[0;34m.\u001b[0m\u001b[0mpredict\u001b[0m\u001b[0;34m(\u001b[0m\u001b[0mX_test\u001b[0m\u001b[0;34m)\u001b[0m\u001b[0;34m\u001b[0m\u001b[0;34m\u001b[0m\u001b[0m\n\u001b[1;32m     53\u001b[0m     \u001b[0maccuracy\u001b[0m \u001b[0;34m=\u001b[0m \u001b[0maccuracy_score\u001b[0m\u001b[0;34m(\u001b[0m\u001b[0my_test\u001b[0m\u001b[0;34m,\u001b[0m \u001b[0my_pred\u001b[0m\u001b[0;34m)\u001b[0m\u001b[0;34m\u001b[0m\u001b[0;34m\u001b[0m\u001b[0m\n",
            "\u001b[0;31mValueError\u001b[0m: Model expects 4 features but got 5"
          ]
        }
      ],
      "source": [
        "import pandas as pd\n",
        "import joblib\n",
        "from sklearn.model_selection import train_test_split\n",
        "from sklearn.linear_model import LogisticRegression\n",
        "from sklearn.neighbors import KNeighborsClassifier\n",
        "from sklearn.ensemble import AdaBoostClassifier\n",
        "from sklearn.svm import SVC\n",
        "from sklearn.metrics import accuracy_score, precision_score, recall_score, f1_score\n",
        "\n",
        "# Step 1: Load the training and testing datasets\n",
        "df_train = pd.read_csv('/content/train.csv')  # Replace with your training dataset file\n",
        "df_test = pd.read_csv('/content/test.csv')    # Replace with your test dataset file\n",
        "\n",
        "# Standardize column names to lowercase and remove extra spaces for consistency\n",
        "df_train.columns = df_train.columns.str.lower().str.replace(' ', '')\n",
        "df_test.columns = df_test.columns.str.lower().str.replace(' ', '')\n",
        "\n",
        "# Prepare the training and testing data\n",
        "X_train = df_train[['openness', 'conscientiousness', 'extraversion', 'agreeableness', 'neuroticism']].values\n",
        "y_train = df_train['personality(classlabel)'].values\n",
        "X_test = df_test[['openness', 'conscientiousness', 'extraversion', 'agreeableness', 'neuroticism']].values\n",
        "y_test = df_test['personality(classlabel)'].values\n",
        "\n",
        "# Step 2: Train and save models with consistent features\n",
        "models = {\n",
        "    \"Logistic Regression\": LogisticRegression(),\n",
        "    \"KNN\": KNeighborsClassifier(),\n",
        "    \"AdaBoost\": AdaBoostClassifier(),\n",
        "    \"SVC\": SVC()\n",
        "}\n",
        "\n",
        "# Train and save each model\n",
        "for model_name, model in models.items():\n",
        "    model.fit(X_train, y_train)\n",
        "    joblib.dump(model, f'{model_name.lower().replace(\" \", \"_\")}_model.pkl')\n",
        "    print(f\"{model_name} model saved successfully.\")\n",
        "\n",
        "# Load the models into a dictionary\n",
        "loaded_models = {\n",
        "    \"Logistic Regression\": joblib.load('/content/logistic_model.pkl'),\n",
        "    \"KNN\": joblib.load('/content/knn_model.pkl'),\n",
        "    \"AdaBoost\": joblib.load('/content/ada_model.pkl'),\n",
        "    \"SVC\": joblib.load('/content/svc_model.pkl')\n",
        "}\n",
        "\n",
        "\n",
        "# Evaluation function with additional metrics\n",
        "def evaluate_model(model, X_test, y_test):\n",
        "    # Check feature consistency\n",
        "    if model.n_features_in_ != X_test.shape[1]:\n",
        "        raise ValueError(f\"Model expects {model.n_features_in_} features but got {X_test.shape[1]}\")\n",
        "    y_pred = model.predict(X_test)\n",
        "    accuracy = accuracy_score(y_test, y_pred)\n",
        "    precision = precision_score(y_test, y_pred, average='weighted')\n",
        "    recall = recall_score(y_test, y_pred, average='weighted')\n",
        "    f1 = f1_score(y_test, y_pred, average='weighted')\n",
        "    return accuracy, precision, recall, f1\n",
        "\n",
        "# Evaluate each loaded model and compare with the previous accuracy\n",
        "best_model = None\n",
        "best_accuracy = 0\n",
        "\n",
        "for model_name, model in loaded_models.items():\n",
        "    accuracy, precision, recall, f1 = evaluate_model(model, X_test, y_test)\n",
        "    print(f\"{model_name} - Test Accuracy: {accuracy:.4f}, Precision: {precision:.4f}, Recall: {recall:.4f}, F1 Score: {f1:.4f}\")\n",
        "\n",
        "    # Compare with previous accuracy\n",
        "    prev_accuracy = previous_accuracies.get(model_name, None)\n",
        "    if prev_accuracy is not None:\n",
        "        print(f\"Previous Accuracy for {model_name}: {prev_accuracy:.4f}\")\n",
        "        if accuracy > prev_accuracy:\n",
        "            print(f\"{model_name} has improved accuracy.\")\n",
        "        elif accuracy < prev_accuracy:\n",
        "            print(f\"{model_name} has decreased accuracy.\")\n",
        "        else:\n",
        "            print(f\"{model_name} has the same accuracy.\")\n",
        "\n",
        "    # Track the best model\n",
        "    if accuracy > best_accuracy:\n",
        "        best_accuracy = accuracy\n",
        "        best_model = model\n",
        "\n",
        "# Step 4: Ask interview questions and get answers\n",
        "def ask_questions():\n",
        "    questions = {\n",
        "        'openness': [\n",
        "            \"How comfortable are you with trying new processes or methods at work? (1-5)\",\n",
        "            \"How often do you look for new challenges or opportunities for growth at work? (1-5)\",\n",
        "            \"How open are you to working in unfamiliar or ambiguous situations? (1-5)\"\n",
        "        ],\n",
        "        'conscientiousness': [\n",
        "            \"How often do you meet deadlines at work? (1-5)\",\n",
        "            \"How do you prioritize tasks when multiple deadlines are approaching? (1-5)\",\n",
        "            \"How much attention do you pay to the details of your work? (1-5)\"\n",
        "        ],\n",
        "        'extraversion': [\n",
        "            \"How do you feel about attending social events with colleagues? (1-5)\",\n",
        "            \"How comfortable are you with speaking up in meetings? (1-5)\",\n",
        "            \"How do you feel about working in a team environment? (1-5)\"\n",
        "        ],\n",
        "        'agreeableness': [\n",
        "            \"How do you handle conflict with a colleague? (1-5)\",\n",
        "            \"How willing are you to help a colleague with their tasks? (1-5)\",\n",
        "            \"How do you feel about giving feedback to a peer? (1-5)\"\n",
        "        ],\n",
        "        'neuroticism': [\n",
        "            \"How do you react to unexpected changes in your workload or tasks? (1-5)\",\n",
        "            \"How often do you worry about work-related issues outside of working hours? (1-5)\",\n",
        "            \"How do you handle criticism? (1-5)\"\n",
        "        ]\n",
        "    }\n",
        "\n",
        "    answers = []\n",
        "\n",
        "    # Ask each question\n",
        "    for trait, questions_list in questions.items():\n",
        "        for question in questions_list:\n",
        "            answer = int(input(question))  # Get answer from 1 to 5\n",
        "            while answer < 1 or answer > 5:\n",
        "                print(\"Please enter a number between 1 and 5.\")\n",
        "                answer = int(input(question))\n",
        "            answers.append(answer)\n",
        "\n",
        "    return answers\n",
        "\n",
        "# Step 5: Predict the personality using the best model\n",
        "def predict_personality(model, answers):\n",
        "    # Calculate OCEAN scores (average of the 3 answers for each trait)\n",
        "    ocean_scores = [\n",
        "        sum(answers[:3]) / 3,  # Openness\n",
        "        sum(answers[3:6]) / 3,  # Conscientiousness\n",
        "        sum(answers[6:9]) / 3,  # Extraversion\n",
        "        sum(answers[9:12]) / 3,  # Agreeableness\n",
        "        sum(answers[12:15]) / 3  # Neuroticism\n",
        "    ]\n",
        "\n",
        "    # Predict personality based on OCEAN scores\n",
        "    predicted_personality = model.predict([ocean_scores])\n",
        "    return predicted_personality[0]\n",
        "\n",
        "# Main program\n",
        "if __name__ == \"__main__\":\n",
        "    # Ask questions and get answers\n",
        "    answers = ask_questions()\n",
        "\n",
        "    # Predict personality using the best model\n",
        "    predicted_personality = predict_personality(best_model, answers)\n",
        "\n",
        "    # Output the predicted personality\n",
        "    print(f\"\\nPredicted Personality: {predicted_personality}\")\n"
      ]
    }
  ],
  "metadata": {
    "colab": {
      "provenance": []
    },
    "kernelspec": {
      "display_name": "Python 3",
      "name": "python3"
    },
    "language_info": {
      "name": "python"
    }
  },
  "nbformat": 4,
  "nbformat_minor": 0
}